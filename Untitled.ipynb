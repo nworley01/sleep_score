{
 "cells": [
  {
   "cell_type": "code",
   "execution_count": 1,
   "metadata": {},
   "outputs": [],
   "source": [
    "import mne\n",
    "from scipy import fftpack\n",
    "from scipy.fft import fft\n",
    "from scipy.signal import resample\n",
    "from skimage import util\n",
    "from collections import Counter\n",
    "import matplotlib.pyplot as plt\n",
    "import pandas as pd\n",
    "import numpy as np"
   ]
  },
  {
   "cell_type": "code",
   "execution_count": 69,
   "metadata": {},
   "outputs": [
    {
     "name": "stdout",
     "output_type": "stream",
     "text": [
      "Extracting EDF parameters from D:\\sleepscoring\\data\\CRFS60_fullRecordingScored.edf...\n",
      "EDF file detected\n",
      "Setting channel info structure...\n",
      "Creating raw.info structure...\n"
     ]
    }
   ],
   "source": [
    "raw_data = mne.io.read_raw_edf('data/CRFS60_fullRecordingScored.edf')"
   ]
  },
  {
   "cell_type": "code",
   "execution_count": 58,
   "metadata": {},
   "outputs": [
    {
     "data": {
      "text/plain": [
       "<Info | 7 non-empty values\n",
       " bads: []\n",
       " ch_names: Activity, EEG, EMG, SignalStr, Temp, Signal-Sleep\n",
       " chs: 6 EEG\n",
       " custom_ref_applied: False\n",
       " highpass: 0.0 Hz\n",
       " lowpass: 250.0 Hz\n",
       " meas_date: 2020-02-07 15:21:27 UTC\n",
       " nchan: 6\n",
       " projs: []\n",
       " sfreq: 500.0 Hz\n",
       ">"
      ]
     },
     "execution_count": 58,
     "metadata": {},
     "output_type": "execute_result"
    }
   ],
   "source": [
    "raw_data.info"
   ]
  },
  {
   "cell_type": "code",
   "execution_count": 10,
   "metadata": {},
   "outputs": [],
   "source": [
    "one, two = raw_data['Signal-Sleep']"
   ]
  },
  {
   "cell_type": "code",
   "execution_count": 70,
   "metadata": {},
   "outputs": [],
   "source": [
    "day=4"
   ]
  },
  {
   "cell_type": "code",
   "execution_count": 71,
   "metadata": {},
   "outputs": [],
   "source": [
    "crop1 = raw_data.crop(day*86_400,(day*86_400)+86_400)"
   ]
  },
  {
   "cell_type": "code",
   "execution_count": 30,
   "metadata": {},
   "outputs": [
    {
     "data": {
      "text/plain": [
       "(array([[-0.99954222, -0.99954222, -0.99954222, ...,  2.99862667,\n",
       "          2.99862667,  2.99862667]]),\n",
       " array([0.0000000e+00, 2.0000000e-03, 4.0000000e-03, ..., 8.6399996e+04,\n",
       "        8.6399998e+04, 8.6400000e+04]))"
      ]
     },
     "execution_count": 30,
     "metadata": {},
     "output_type": "execute_result"
    }
   ],
   "source": [
    "crop1['Signal-Sleep']"
   ]
  },
  {
   "cell_type": "code",
   "execution_count": 72,
   "metadata": {},
   "outputs": [],
   "source": [
    "df = crop1.to_data_frame(['Activity', 'EEG', 'EMG', 'Signal-Sleep'])"
   ]
  },
  {
   "cell_type": "code",
   "execution_count": 73,
   "metadata": {},
   "outputs": [],
   "source": [
    "df['Signal-Sleep']=df['Signal-Sleep']/1e6"
   ]
  },
  {
   "cell_type": "code",
   "execution_count": 74,
   "metadata": {},
   "outputs": [],
   "source": [
    "df['Signal-Sleep']=np.abs(df['Signal-Sleep']).round()"
   ]
  },
  {
   "cell_type": "code",
   "execution_count": 77,
   "metadata": {},
   "outputs": [
    {
     "data": {
      "text/plain": [
       "43199996    3.0\n",
       "43199997    3.0\n",
       "43199998    3.0\n",
       "43199999    3.0\n",
       "43200000    3.0\n",
       "Name: Signal-Sleep, dtype: float64"
      ]
     },
     "execution_count": 77,
     "metadata": {},
     "output_type": "execute_result"
    }
   ],
   "source": [
    "df['Signal-Sleep'].tail()"
   ]
  },
  {
   "cell_type": "code",
   "execution_count": 91,
   "metadata": {},
   "outputs": [
    {
     "data": {
      "text/plain": [
       "[<matplotlib.lines.Line2D at 0x17c545389c8>]"
      ]
     },
     "execution_count": 91,
     "metadata": {},
     "output_type": "execute_result"
    },
    {
     "data": {
      "image/png": "[encoded data removed]",
      "text/plain": [
       "<Figure size 432x288 with 1 Axes>"
      ]
     },
     "metadata": {
      "needs_background": "light"
     },
     "output_type": "display_data"
    }
   ],
   "source": [
    "plt.plot(df['Signal-Sleep'][1900000:1960000])"
   ]
  },
  {
   "cell_type": "code",
   "execution_count": 76,
   "metadata": {},
   "outputs": [
    {
     "data": {
      "text/plain": [
       "1.0     25037780\n",
       "3.0     15008995\n",
       "2.0      2045238\n",
       "10.0      582736\n",
       "0.0       156776\n",
       "11.0      156446\n",
       "9.0        82214\n",
       "8.0        28268\n",
       "4.0        25994\n",
       "7.0        25874\n",
       "5.0        24858\n",
       "6.0        24822\n",
       "Name: Signal-Sleep, dtype: int64"
      ]
     },
     "execution_count": 76,
     "metadata": {},
     "output_type": "execute_result"
    }
   ],
   "source": [
    "df['Signal-Sleep'].value_counts()"
   ]
  },
  {
   "cell_type": "code",
   "execution_count": 270,
   "metadata": {},
   "outputs": [],
   "source": [
    "eeg, time = x"
   ]
  },
  {
   "cell_type": "code",
   "execution_count": 271,
   "metadata": {},
   "outputs": [],
   "source": [
    "eeg = eeg.flatten()"
   ]
  },
  {
   "cell_type": "code",
   "execution_count": 273,
   "metadata": {},
   "outputs": [],
   "source": [
    "eeg = eeg[:-1].reshape(86400,500)"
   ]
  },
  {
   "cell_type": "code",
   "execution_count": 274,
   "metadata": {},
   "outputs": [
    {
     "data": {
      "text/plain": [
       "(86400, 500)"
      ]
     },
     "execution_count": 274,
     "metadata": {},
     "output_type": "execute_result"
    }
   ],
   "source": [
    "eeg.shape"
   ]
  },
  {
   "cell_type": "code",
   "execution_count": 282,
   "metadata": {},
   "outputs": [],
   "source": [
    "sleep_stage = crop1['Signal-Sleep'][0]"
   ]
  },
  {
   "cell_type": "code",
   "execution_count": 300,
   "metadata": {
    "scrolled": true
   },
   "outputs": [
    {
     "data": {
      "text/plain": [
       "array([3.00075763, 3.00287663, 3.00498366, 3.00707874, 3.00916186,\n",
       "       3.01123301, 3.01329221, 3.01533945, 3.01737474, 3.01939807,\n",
       "       3.02140945, 3.02340887, 3.02539635, 3.02737188, 3.02933547,\n",
       "       3.03128712, 3.03322683, 3.03515461, 3.03707045, 3.03897437,\n",
       "       3.04086637, 3.04274645, 3.04461461, 3.04647087, 3.04831522,\n",
       "       3.05014767, 3.05196823, 3.05377689, 3.05557368, 3.05735859,\n",
       "       3.05913163, 3.0608928 , 3.06264211, 3.06437958, 3.0661052 ,\n",
       "       3.06781898, 3.06952094, 3.07121107, 3.07288939, 3.0745559 ,\n",
       "       3.07621062, 3.07785354, 3.07948469, 3.08110406, 3.08271168,\n",
       "       3.08430754, 3.08589165, 3.08746404, 3.08902469, 3.09057364,\n",
       "       3.09211088, 3.09363643, 3.0951503 , 3.09665249, 3.09814303,\n",
       "       3.09962192, 3.10108917, 3.1025448 , 3.10398881, 3.10542122,\n",
       "       3.10684205, 3.1082513 , 3.10964898, 3.11103512, 3.11240971,\n",
       "       3.11377279, 3.11512435, 3.11646442, 3.117793  , 3.11911012,\n",
       "       3.12041578, 3.12171001, 3.12299281, 3.1242642 , 3.12552419,\n",
       "       3.12677281, 3.12801006, 3.12923597, 3.13045054, 3.1316538 ,\n",
       "       3.13284575, 3.13402643, 3.13519583, 3.13635399, 3.13750091,\n",
       "       3.13863662, 3.13976113, 3.14087446, 3.14197663, 3.14306765,\n",
       "       3.14414754, 3.14521633, 3.14627402, 3.14732064, 3.14835622,\n",
       "       3.14938075, 3.15039427, 3.1513968 , 3.15238835, 3.15336895,\n",
       "       3.15433861, 3.15529735, 3.1562452 , 3.15718218, 3.15810829,\n",
       "       3.15902358, 3.15992805, 3.16082173, 3.16170464, 3.1625768 ,\n",
       "       3.16343823, 3.16428896, 3.165129  , 3.16595838, 3.16677713,\n",
       "       3.16758525, 3.16838278, 3.16916974, 3.16994615, 3.17071203,\n",
       "       3.17146742, 3.17221232, 3.17294677, 3.17367079, 3.17438439,\n",
       "       3.17508762, 3.17578049, 3.17646302, 3.17713524, 3.17779717,\n",
       "       3.17844885, 3.17909028, 3.17972151, 3.18034255, 3.18095343,\n",
       "       3.18155418, 3.18214482, 3.18272537, 3.18329587, 3.18385634,\n",
       "       3.1844068 , 3.18494728, 3.18547782, 3.18599843, 3.18650914,\n",
       "       3.18700998, 3.18750098, 3.18798216, 3.18845355, 3.18891518,\n",
       "       3.18936708, 3.18980927, 3.19024179, 3.19066465, 3.1910779 ,\n",
       "       3.19148155, 3.19187564, 3.19226019, 3.19263524, 3.19300081,\n",
       "       3.19335693, 3.19370363, 3.19404094, 3.19436889, 3.19468751,\n",
       "       3.19499683, 3.19529688, 3.19558768, 3.19586928, 3.19614169,\n",
       "       3.19640496, 3.1966591 , 3.19690415, 3.19714015, 3.19736711,\n",
       "       3.19758508, 3.19779408, 3.19799415, 3.19818531, 3.1983676 ,\n",
       "       3.19854105, 3.19870569, 3.19886155, 3.19900867, 3.19914707,\n",
       "       3.19927679, 3.19939786, 3.19951032, 3.19961419, 3.1997095 ,\n",
       "       3.1997963 , 3.19987461, 3.19994446, 3.20000589, 3.20005893,\n",
       "       3.20010362, 3.20013999, 3.20016806, 3.20018788, 3.20019948,\n",
       "       3.20020289, 3.20019814, 3.20018527, 3.20016432, 3.20013531,\n",
       "       3.20009828, 3.20005327, 3.2000003 , 3.19993942, 3.19987065,\n",
       "       3.19979404, 3.19970961, 3.1996174 , 3.19951745, 3.19940979,\n",
       "       3.19929446, 3.19917148, 3.19904091, 3.19890276, 3.19875707,\n",
       "       3.19860389, 3.19844325, 3.19827517, 3.19809971, 3.19791688,\n",
       "       3.19772674, 3.19752931, 3.19732463, 3.19711273, 3.19689366,\n",
       "       3.19666744, 3.19643412, 3.19619373, 3.1959463 , 3.19569188,\n",
       "       3.19543049, 3.19516218, 3.19488698, 3.19460493, 3.19431606,\n",
       "       3.19402042, 3.19371803, 3.19340894, 3.19309318, 3.19277079,\n",
       "       3.1924418 , 3.19210625, 3.19176418, 3.19141563, 3.19106064,\n",
       "       3.19069923, 3.19033145, 3.18995733, 3.18957692, 3.18919025,\n",
       "       3.18879735, 3.18839827, 3.18799304, 3.1875817 , 3.18716428,\n",
       "       3.18674083, 3.18631138, 3.18587597, 3.18543464, 3.18498743,\n",
       "       3.18453436, 3.18407549, 3.18361085, 3.18314047, 3.1826644 ,\n",
       "       3.18218266, 3.18169531, 3.18120238, 3.18070391, 3.18019992,\n",
       "       3.17969047, 3.1791756 , 3.17865533, 3.1781297 , 3.17759876,\n",
       "       3.17706255, 3.1765211 , 3.17597444, 3.17542263, 3.17486569,\n",
       "       3.17430366, 3.17373659, 3.17316451, 3.17258746, 3.17200548,\n",
       "       3.1714186 , 3.17082687, 3.17023032, 3.16962899, 3.16902292,\n",
       "       3.16841215, 3.16779672, 3.16717666, 3.16655201, 3.16592282,\n",
       "       3.16528912, 3.16465094, 3.16400834, 3.16336134, 3.16270998,\n",
       "       3.16205431, 3.16139436, 3.16073016, 3.16006177, 3.15938921,\n",
       "       3.15871253, 3.15803175, 3.15734694, 3.15665811, 3.15596531,\n",
       "       3.15526857, 3.15456795, 3.15386346, 3.15315516, 3.15244308,\n",
       "       3.15172725, 3.15100773, 3.15028454, 3.14955772, 3.14882731,\n",
       "       3.14809336, 3.14735589, 3.14661495, 3.14587057, 3.1451228 ,\n",
       "       3.14437166, 3.14361721, 3.14285947, 3.14209849, 3.1413343 ,\n",
       "       3.14056695, 3.13979646, 3.13902288, 3.13824624, 3.13746659,\n",
       "       3.13668396, 3.13589839, 3.13510991, 3.13431857, 3.1335244 ,\n",
       "       3.13272744, 3.13192772, 3.1311253 , 3.13032019, 3.12951244,\n",
       "       3.1287021 , 3.12788918, 3.12707374, 3.12625581, 3.12543543,\n",
       "       3.12461263, 3.12378745, 3.12295993, 3.12213011, 3.12129802,\n",
       "       3.1204637 , 3.11962719, 3.11878852, 3.11794774, 3.11710487,\n",
       "       3.11625995, 3.11541303, 3.11456414, 3.11371331, 3.11286058,\n",
       "       3.11200599, 3.11114958, 3.11029137, 3.10943142, 3.10856974,\n",
       "       3.10770639, 3.10684139, 3.10597479, 3.10510661, 3.1042369 ,\n",
       "       3.10336569, 3.10249301, 3.10161891, 3.10074341, 3.09986656,\n",
       "       3.09898838, 3.09810892, 3.09722821, 3.09634629, 3.09546319,\n",
       "       3.09457894, 3.09369358, 3.09280715, 3.09191968, 3.09103121,\n",
       "       3.09014177, 3.08925139, 3.08836012, 3.08746798, 3.08657501,\n",
       "       3.08568124, 3.08478672, 3.08389147, 3.08299552, 3.08209892,\n",
       "       3.08120169, 3.08030388, 3.0794055 , 3.07850661, 3.07760723,\n",
       "       3.07670739, 3.07580713, 3.07490648, 3.07400548, 3.07310416,\n",
       "       3.07220255, 3.07130069, 3.07039861, 3.06949634, 3.06859391,\n",
       "       3.06769136, 3.06678872, 3.06588602, 3.0649833 , 3.06408059,\n",
       "       3.06317792, 3.06227532, 3.06137282, 3.06047047, 3.05956828,\n",
       "       3.05866629, 3.05776453, 3.05686304, 3.05596184, 3.05506098,\n",
       "       3.05416046, 3.05326034, 3.05236064, 3.0514614 , 3.05056263,\n",
       "       3.04966438, 3.04876667, 3.04786954, 3.04697302, 3.04607713,\n",
       "       3.04518191, 3.04428738, 3.04339359, 3.04250055, 3.04160829,\n",
       "       3.04071685, 3.03982626, 3.03893655, 3.03804774, 3.03715987,\n",
       "       3.03627296, 3.03538704, 3.03450215, 3.0336183 , 3.03273554,\n",
       "       3.03185389, 3.03097337, 3.03009402, 3.02921586, 3.02833892,\n",
       "       3.02746324, 3.02658883, 3.02571573, 3.02484397, 3.02397356,\n",
       "       3.02310455, 3.02223695, 3.02137079, 3.02050611, 3.01964292,\n",
       "       3.01878126, 3.01792115, 3.01706262, 3.0162057 , 3.0153504 ,\n",
       "       3.01449676, 3.01364481, 3.01279457, 3.01194606, 3.01109931,\n",
       "       3.01025436, 3.00941121, 3.0085699 , 3.00773046, 3.0068929 ,\n",
       "       3.00605726, 3.00522356, 3.00439182, 3.00356206, 3.00273433,\n",
       "       3.00190862, 3.00108498, 3.00026343, 2.99944398, 2.99862667])"
      ]
     },
     "execution_count": 300,
     "metadata": {},
     "output_type": "execute_result"
    }
   ],
   "source": [
    "sleep_stage[0,-9000:-8500]"
   ]
  },
  {
   "cell_type": "code",
   "execution_count": 262,
   "metadata": {},
   "outputs": [],
   "source": [
    "sleep_stage = sleep_stage[0,:-1].reshape(86400,500)"
   ]
  },
  {
   "cell_type": "code",
   "execution_count": 263,
   "metadata": {},
   "outputs": [],
   "source": [
    "sleep_stage = sleep_stage.mean(axis=1)"
   ]
  },
  {
   "cell_type": "code",
   "execution_count": 264,
   "metadata": {},
   "outputs": [
    {
     "data": {
      "text/plain": [
       "(86400,)"
      ]
     },
     "execution_count": 264,
     "metadata": {},
     "output_type": "execute_result"
    }
   ],
   "source": [
    "sleep_stage.shape"
   ]
  },
  {
   "cell_type": "code",
   "execution_count": 265,
   "metadata": {},
   "outputs": [
    {
     "data": {
      "text/plain": [
       "array([-0.99954222, -0.99954222, -0.99954222, ...,  2.99862667,\n",
       "        2.99862667,  2.99862667])"
      ]
     },
     "execution_count": 265,
     "metadata": {},
     "output_type": "execute_result"
    }
   ],
   "source": [
    "sleep_stage"
   ]
  },
  {
   "cell_type": "code",
   "execution_count": 266,
   "metadata": {},
   "outputs": [],
   "source": [
    "good_sleep_stage = sleep_stage[sleep_stage!=sleep_stage[0]]"
   ]
  },
  {
   "cell_type": "code",
   "execution_count": 267,
   "metadata": {},
   "outputs": [
    {
     "data": {
      "text/plain": [
       "(22890,)"
      ]
     },
     "execution_count": 267,
     "metadata": {},
     "output_type": "execute_result"
    }
   ],
   "source": [
    "good_sleep_stage.shape"
   ]
  },
  {
   "cell_type": "code",
   "execution_count": 275,
   "metadata": {},
   "outputs": [],
   "source": [
    "good_eeg = eeg[sleep_stage!=sleep_stage[0],:]"
   ]
  },
  {
   "cell_type": "code",
   "execution_count": 276,
   "metadata": {},
   "outputs": [
    {
     "data": {
      "text/plain": [
       "(22890, 500)"
      ]
     },
     "execution_count": 276,
     "metadata": {},
     "output_type": "execute_result"
    }
   ],
   "source": [
    "good_eeg.shape"
   ]
  },
  {
   "cell_type": "code",
   "execution_count": 277,
   "metadata": {},
   "outputs": [],
   "source": [
    "df = pd.DataFrame()"
   ]
  },
  {
   "cell_type": "code",
   "execution_count": 278,
   "metadata": {},
   "outputs": [],
   "source": [
    "df['eeg']=good_eeg.tolist()"
   ]
  },
  {
   "cell_type": "code",
   "execution_count": 279,
   "metadata": {},
   "outputs": [],
   "source": [
    "df['sleep_stage']=good_sleep_stage.tolist()"
   ]
  },
  {
   "cell_type": "code",
   "execution_count": 280,
   "metadata": {},
   "outputs": [
    {
     "ename": "IndexError",
     "evalue": "boolean index did not match indexed array along dimension 0; dimension is 43200001 but corresponding boolean dimension is 86400",
     "output_type": "error",
     "traceback": [
      "\u001b[1;31m---------------------------------------------------------------------------\u001b[0m",
      "\u001b[1;31mIndexError\u001b[0m                                Traceback (most recent call last)",
      "\u001b[1;32m<ipython-input-280-d2ee2f7bc2e4>\u001b[0m in \u001b[0;36m<module>\u001b[1;34m\u001b[0m\n\u001b[1;32m----> 1\u001b[1;33m \u001b[0mgood_time\u001b[0m \u001b[1;33m=\u001b[0m \u001b[0mtime\u001b[0m\u001b[1;33m[\u001b[0m\u001b[0msleep_stage\u001b[0m\u001b[1;33m!=\u001b[0m\u001b[0msleep_stage\u001b[0m\u001b[1;33m[\u001b[0m\u001b[1;36m0\u001b[0m\u001b[1;33m]\u001b[0m\u001b[1;33m]\u001b[0m\u001b[1;33m\u001b[0m\u001b[1;33m\u001b[0m\u001b[0m\n\u001b[0m",
      "\u001b[1;31mIndexError\u001b[0m: boolean index did not match indexed array along dimension 0; dimension is 43200001 but corresponding boolean dimension is 86400"
     ]
    }
   ],
   "source": [
    "good_time = time[sleep_stage!=sleep_stage[0]]"
   ]
  },
  {
   "cell_type": "code",
   "execution_count": 281,
   "metadata": {},
   "outputs": [
    {
     "data": {
      "text/html": [
       "<div>\n",
       "<style scoped>\n",
       "    .dataframe tbody tr th:only-of-type {\n",
       "        vertical-align: middle;\n",
       "    }\n",
       "\n",
       "    .dataframe tbody tr th {\n",
       "        vertical-align: top;\n",
       "    }\n",
       "\n",
       "    .dataframe thead th {\n",
       "        text-align: right;\n",
       "    }\n",
       "</style>\n",
       "<table border=\"1\" class=\"dataframe\">\n",
       "  <thead>\n",
       "    <tr style=\"text-align: right;\">\n",
       "      <th></th>\n",
       "      <th>eeg</th>\n",
       "      <th>sleep_stage</th>\n",
       "    </tr>\n",
       "  </thead>\n",
       "  <tbody>\n",
       "    <tr>\n",
       "      <th>0</th>\n",
       "      <td>[4.577776421399579e-05, 5.3102206488235115e-05...</td>\n",
       "      <td>-1.688407</td>\n",
       "    </tr>\n",
       "    <tr>\n",
       "      <th>1</th>\n",
       "      <td>[-6.073183385723441e-05, -6.912442396313364e-0...</td>\n",
       "      <td>1.162543</td>\n",
       "    </tr>\n",
       "    <tr>\n",
       "      <th>2</th>\n",
       "      <td>[3.7232581560716575e-05, 2.304147465437788e-05...</td>\n",
       "      <td>3.253107</td>\n",
       "    </tr>\n",
       "    <tr>\n",
       "      <th>3</th>\n",
       "      <td>[9.308145390179144e-06, 2.792443617053743e-05,...</td>\n",
       "      <td>2.872136</td>\n",
       "    </tr>\n",
       "    <tr>\n",
       "      <th>4</th>\n",
       "      <td>[5.98162785729545e-05, 5.844294564653462e-05, ...</td>\n",
       "      <td>3.088579</td>\n",
       "    </tr>\n",
       "  </tbody>\n",
       "</table>\n",
       "</div>"
      ],
      "text/plain": [
       "                                                 eeg  sleep_stage\n",
       "0  [4.577776421399579e-05, 5.3102206488235115e-05...    -1.688407\n",
       "1  [-6.073183385723441e-05, -6.912442396313364e-0...     1.162543\n",
       "2  [3.7232581560716575e-05, 2.304147465437788e-05...     3.253107\n",
       "3  [9.308145390179144e-06, 2.792443617053743e-05,...     2.872136\n",
       "4  [5.98162785729545e-05, 5.844294564653462e-05, ...     3.088579"
      ]
     },
     "execution_count": 281,
     "metadata": {},
     "output_type": "execute_result"
    }
   ],
   "source": [
    "df.head()"
   ]
  },
  {
   "cell_type": "code",
   "execution_count": null,
   "metadata": {},
   "outputs": [],
   "source": []
  }
 ],
 "metadata": {
  "kernelspec": {
   "display_name": "Python 3",
   "language": "python",
   "name": "python3"
  },
  "language_info": {
   "codemirror_mode": {
    "name": "ipython",
    "version": 3
   },
   "file_extension": ".py",
   "mimetype": "text/x-python",
   "name": "python",
   "nbconvert_exporter": "python",
   "pygments_lexer": "ipython3",
   "version": "3.7.6"
  }
 },
 "nbformat": 4,
 "nbformat_minor": 4
}
