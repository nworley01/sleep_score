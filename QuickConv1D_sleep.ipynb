{
 "cells": [
  {
   "cell_type": "code",
   "execution_count": 1,
   "metadata": {},
   "outputs": [],
   "source": [
    "import mne\n",
    "from scipy import fftpack\n",
    "from scipy.fft import fft\n",
    "from scipy.signal import resample\n",
    "from skimage import util\n",
    "from collections import Counter\n",
    "import matplotlib.pyplot as plt\n",
    "import pandas as pd\n",
    "import numpy as np"
   ]
  },
  {
   "cell_type": "code",
   "execution_count": 3,
   "metadata": {},
   "outputs": [
    {
     "name": "stdout",
     "output_type": "stream",
     "text": [
      "Extracting EDF parameters from D:\\ML Projects\\sleepscoring\\data\\test2.edf...\n",
      "EDF file detected\n",
      "Setting channel info structure...\n",
      "Creating raw.info structure...\n",
      "Reading 0 ... 43199999  =      0.000 ... 86399.998 secs...\n"
     ]
    }
   ],
   "source": [
    "raw_data = mne.io.read_raw_edf('data/test2.edf', preload=True)"
   ]
  },
  {
   "cell_type": "code",
   "execution_count": 4,
   "metadata": {},
   "outputs": [
    {
     "data": {
      "text/plain": [
       "10"
      ]
     },
     "execution_count": 4,
     "metadata": {},
     "output_type": "execute_result"
    }
   ],
   "source": [
    "raw_data.info['meas_date'].hour"
   ]
  },
  {
   "cell_type": "code",
   "execution_count": 5,
   "metadata": {},
   "outputs": [
    {
     "data": {
      "text/plain": [
       "5000.0"
      ]
     },
     "execution_count": 5,
     "metadata": {},
     "output_type": "execute_result"
    }
   ],
   "source": [
    "df = raw_data.to_data_frame()\n",
    "df.columns = ['time','activity','eeg','emg','signal_str','temp','sleep_stage']\n",
    "df['sleep_stage']=df['sleep_stage']/1e6\n",
    "df['sleep_stage']=df['sleep_stage'].round()\n",
    "df['temp']=(df['temp']/1e7).round(4)\n",
    "df.head()\n",
    "\n",
    "stage_names ={1.0:'awake',\n",
    "              2.0:'PS',\n",
    "              3.0:'SWS',\n",
    "              10.0:\"Artifact\"}\n",
    "\n",
    "df.shape[0]/(6*60*24)"
   ]
  },
  {
   "cell_type": "code",
   "execution_count": 6,
   "metadata": {},
   "outputs": [],
   "source": [
    "sleep_stages = []\n",
    "for i in range(8640):\n",
    "    sleep_stages.append(df.sleep_stage[i*5000:(i+1)*5000].mean())"
   ]
  },
  {
   "cell_type": "code",
   "execution_count": 7,
   "metadata": {},
   "outputs": [],
   "source": [
    "df_new = pd.DataFrame()\n",
    "\n",
    "data_dict =  {'time':[],\n",
    "              'eeg':[],\n",
    "              'emg':[],\n",
    "              'signal_str':[],\n",
    "              'sleep_stage':[]}\n",
    "\n",
    "\n",
    "for i in range(6*60*24):\n",
    "    data_dict['time'].append(df.time[i*5000])\n",
    "    data_dict['eeg'].append(df.eeg[i*5000:(i+1)*5000].values)\n",
    "    data_dict['emg'].append(df.emg[i*5000:(i+1)*5000].values)\n",
    "    data_dict['signal_str'].append(df.signal_str[i*5000:(i+1)*5000].values)\n",
    "    data_dict['sleep_stage'].append(df.sleep_stage[i*5000])"
   ]
  },
  {
   "cell_type": "code",
   "execution_count": 8,
   "metadata": {},
   "outputs": [],
   "source": [
    "def rectified_std(array):\n",
    "    return(np.std(np.abs(array)))\n",
    "\n",
    "def rectified_mean(array):\n",
    "    return(np.mean(np.abs(array)))"
   ]
  },
  {
   "cell_type": "code",
   "execution_count": 9,
   "metadata": {},
   "outputs": [],
   "source": [
    "df2 = pd.DataFrame.from_dict(data_dict)"
   ]
  },
  {
   "cell_type": "code",
   "execution_count": 10,
   "metadata": {},
   "outputs": [],
   "source": [
    "df2['eeg_max'] = df2['eeg'].apply(np.max)\n",
    "df2['eeg_min'] = df2['eeg'].apply(np.min)\n",
    "df2['eeg_mean'] = df2['eeg'].apply(np.mean)\n",
    "df2['eeg_std'] = df2['eeg'].apply(np.std)\n",
    "df2['reeg_std'] = df2['eeg'].apply(rectified_std)"
   ]
  },
  {
   "cell_type": "code",
   "execution_count": 11,
   "metadata": {},
   "outputs": [],
   "source": [
    "df2['emg_max'] = df2['emg'].apply(np.max)\n",
    "df2['emg_min'] = df2['emg'].apply(np.min)\n",
    "df2['emg_mean'] = df2['emg'].apply(np.mean)\n",
    "df2['emg_std'] = df2['emg'].apply(np.std)\n",
    "df2['remg_std'] = df2['emg'].apply(rectified_std)"
   ]
  },
  {
   "cell_type": "code",
   "execution_count": 12,
   "metadata": {},
   "outputs": [
    {
     "data": {
      "text/plain": [
       "1.0     20920000\n",
       "3.0     19255000\n",
       "2.0      2560000\n",
       "10.0      465000\n",
       "Name: sleep_stage, dtype: int64"
      ]
     },
     "execution_count": 12,
     "metadata": {},
     "output_type": "execute_result"
    }
   ],
   "source": [
    "df.sleep_stage.value_counts()"
   ]
  },
  {
   "cell_type": "code",
   "execution_count": 13,
   "metadata": {},
   "outputs": [
    {
     "data": {
      "text/plain": [
       "(5000,)"
      ]
     },
     "execution_count": 13,
     "metadata": {},
     "output_type": "execute_result"
    }
   ],
   "source": [
    "df2.eeg[0].shape"
   ]
  },
  {
   "cell_type": "code",
   "execution_count": 14,
   "metadata": {},
   "outputs": [],
   "source": [
    "import tensorflow as tf\n",
    "from tensorflow import keras\n"
   ]
  },
  {
   "cell_type": "code",
   "execution_count": 15,
   "metadata": {},
   "outputs": [],
   "source": [
    "model = tf.keras.Sequential()\n",
    "model.add(keras.layers.Conv1D(64,3, input_shape=(5000,1)))\n",
    "model.add(keras.layers.MaxPool1D(pool_size=3, padding='valid'))\n",
    "model.add(keras.layers.Conv1D(64,5))\n",
    "model.add(keras.layers.MaxPool1D(pool_size=5, padding='valid'))\n",
    "model.add(keras.layers.Conv1D(64,7))\n",
    "model.add(keras.layers.MaxPool1D(pool_size=7, padding='valid'))\n",
    "#model.add(keras.layers.Conv1D(64,3))\n",
    "#model.add(keras.layers.MaxPool1D(pool_size=3, padding='valid'))\n",
    "#model.add(keras.layers.Conv1D(64,3))\n",
    "#model.add(keras.layers.MaxPool1D(pool_size=3, padding='valid'))\n",
    "#model.add(keras.layers.Conv1D(64,3))\n",
    "#model.add(keras.layers.MaxPool1D(pool_size=3, padding='valid'))\n",
    "model.add(keras.layers.Flatten())\n",
    "model.add(keras.layers.Dense(64, activation='relu'))\n",
    "model.add(keras.layers.Dense(64, activation='relu'))\n",
    "model.add(keras.layers.Dense(64, activation='relu'))\n",
    "model.add(keras.layers.Dense(64, activation='relu'))\n",
    "model.add(keras.layers.Dense(4))         "
   ]
  },
  {
   "cell_type": "code",
   "execution_count": 16,
   "metadata": {},
   "outputs": [],
   "source": [
    "model.compile(optimizer='adam', loss=tf.keras.losses.SparseCategoricalCrossentropy(from_logits=True), metrics=['accuracy'])"
   ]
  },
  {
   "cell_type": "code",
   "execution_count": 17,
   "metadata": {},
   "outputs": [
    {
     "data": {
      "image/png": "[encoded data removed]",
      "text/plain": [
       "<IPython.core.display.Image object>"
      ]
     },
     "execution_count": 17,
     "metadata": {},
     "output_type": "execute_result"
    }
   ],
   "source": [
    "tf.keras.utils.plot_model(model, show_shapes=True)"
   ]
  },
  {
   "cell_type": "code",
   "execution_count": null,
   "metadata": {},
   "outputs": [],
   "source": []
  },
  {
   "cell_type": "code",
   "execution_count": 18,
   "metadata": {},
   "outputs": [],
   "source": [
    "eeg_data = df2['eeg'].values\n",
    "emg_data = df2['emg'].values\n"
   ]
  },
  {
   "cell_type": "code",
   "execution_count": 19,
   "metadata": {},
   "outputs": [],
   "source": [
    "eeg_data = np.stack(eeg_data)\n",
    "emg_data = np.stack(emg_data)\n",
    "eeg_data = eeg_data.reshape(8640,5000,1)\n",
    "emg_data = eeg_data.reshape(8640,5000,1)\n"
   ]
  },
  {
   "cell_type": "code",
   "execution_count": 20,
   "metadata": {},
   "outputs": [
    {
     "data": {
      "text/plain": [
       "(8640, 5000, 2)"
      ]
     },
     "execution_count": 20,
     "metadata": {},
     "output_type": "execute_result"
    }
   ],
   "source": [
    "train = np.concatenate([eeg_data, emg_data], axis=2)\n",
    "train.shape"
   ]
  },
  {
   "cell_type": "code",
   "execution_count": 21,
   "metadata": {},
   "outputs": [],
   "source": [
    "df2['awake']=df2.sleep_stage"
   ]
  },
  {
   "cell_type": "code",
   "execution_count": 22,
   "metadata": {},
   "outputs": [
    {
     "name": "stderr",
     "output_type": "stream",
     "text": [
      "C:\\Users\\nworl\\anaconda3\\envs\\tf2\\lib\\site-packages\\ipykernel_launcher.py:1: SettingWithCopyWarning: \n",
      "A value is trying to be set on a copy of a slice from a DataFrame\n",
      "\n",
      "See the caveats in the documentation: https://pandas.pydata.org/pandas-docs/stable/user_guide/indexing.html#returning-a-view-versus-a-copy\n",
      "  \"\"\"Entry point for launching an IPython kernel.\n"
     ]
    }
   ],
   "source": [
    "df2['awake'][df2['awake']!=1]=0"
   ]
  },
  {
   "cell_type": "code",
   "execution_count": 23,
   "metadata": {},
   "outputs": [
    {
     "name": "stderr",
     "output_type": "stream",
     "text": [
      "C:\\Users\\nworl\\anaconda3\\envs\\tf2\\lib\\site-packages\\ipykernel_launcher.py:2: SettingWithCopyWarning: \n",
      "A value is trying to be set on a copy of a slice from a DataFrame\n",
      "\n",
      "See the caveats in the documentation: https://pandas.pydata.org/pandas-docs/stable/user_guide/indexing.html#returning-a-view-versus-a-copy\n",
      "  \n",
      "C:\\Users\\nworl\\anaconda3\\envs\\tf2\\lib\\site-packages\\ipykernel_launcher.py:4: SettingWithCopyWarning: \n",
      "A value is trying to be set on a copy of a slice from a DataFrame\n",
      "\n",
      "See the caveats in the documentation: https://pandas.pydata.org/pandas-docs/stable/user_guide/indexing.html#returning-a-view-versus-a-copy\n",
      "  after removing the cwd from sys.path.\n",
      "C:\\Users\\nworl\\anaconda3\\envs\\tf2\\lib\\site-packages\\ipykernel_launcher.py:6: SettingWithCopyWarning: \n",
      "A value is trying to be set on a copy of a slice from a DataFrame\n",
      "\n",
      "See the caveats in the documentation: https://pandas.pydata.org/pandas-docs/stable/user_guide/indexing.html#returning-a-view-versus-a-copy\n",
      "  \n"
     ]
    },
    {
     "data": {
      "text/html": [
       "<div>\n",
       "<style scoped>\n",
       "    .dataframe tbody tr th:only-of-type {\n",
       "        vertical-align: middle;\n",
       "    }\n",
       "\n",
       "    .dataframe tbody tr th {\n",
       "        vertical-align: top;\n",
       "    }\n",
       "\n",
       "    .dataframe thead th {\n",
       "        text-align: right;\n",
       "    }\n",
       "</style>\n",
       "<table border=\"1\" class=\"dataframe\">\n",
       "  <thead>\n",
       "    <tr style=\"text-align: right;\">\n",
       "      <th></th>\n",
       "      <th>time</th>\n",
       "      <th>eeg</th>\n",
       "      <th>emg</th>\n",
       "      <th>signal_str</th>\n",
       "      <th>sleep_stage</th>\n",
       "      <th>eeg_max</th>\n",
       "      <th>eeg_min</th>\n",
       "      <th>eeg_mean</th>\n",
       "      <th>eeg_std</th>\n",
       "      <th>reeg_std</th>\n",
       "      <th>emg_max</th>\n",
       "      <th>emg_min</th>\n",
       "      <th>emg_mean</th>\n",
       "      <th>emg_std</th>\n",
       "      <th>remg_std</th>\n",
       "      <th>awake</th>\n",
       "      <th>PS</th>\n",
       "      <th>SWS</th>\n",
       "      <th>art</th>\n",
       "    </tr>\n",
       "  </thead>\n",
       "  <tbody>\n",
       "    <tr>\n",
       "      <th>0</th>\n",
       "      <td>0</td>\n",
       "      <td>[-81.94219794305246, -73.09183019501327, -65.0...</td>\n",
       "      <td>[-3.5096285897396773, -6.561479537339396, -3.9...</td>\n",
       "      <td>[34999847.40745262, 35001829.06457086, 3500382...</td>\n",
       "      <td>3.0</td>\n",
       "      <td>312.509537</td>\n",
       "      <td>-244.911039</td>\n",
       "      <td>-0.917081</td>\n",
       "      <td>61.102474</td>\n",
       "      <td>39.760782</td>\n",
       "      <td>32.044435</td>\n",
       "      <td>-29.908139</td>\n",
       "      <td>0.289377</td>\n",
       "      <td>7.608577</td>\n",
       "      <td>4.663815</td>\n",
       "      <td>0.0</td>\n",
       "      <td>0.0</td>\n",
       "      <td>3.0</td>\n",
       "      <td>0.0</td>\n",
       "    </tr>\n",
       "    <tr>\n",
       "      <th>1</th>\n",
       "      <td>10000</td>\n",
       "      <td>[88.65627002777184, 81.02664265877254, 69.4296...</td>\n",
       "      <td>[11.749626148258919, 6.40888698995941, 1.37333...</td>\n",
       "      <td>[34999847.40745261, 35001522.62981798, 3500319...</td>\n",
       "      <td>3.0</td>\n",
       "      <td>353.556932</td>\n",
       "      <td>-177.159948</td>\n",
       "      <td>0.469924</td>\n",
       "      <td>59.819381</td>\n",
       "      <td>36.771851</td>\n",
       "      <td>31.586657</td>\n",
       "      <td>-25.635548</td>\n",
       "      <td>0.181982</td>\n",
       "      <td>7.415046</td>\n",
       "      <td>4.498966</td>\n",
       "      <td>0.0</td>\n",
       "      <td>0.0</td>\n",
       "      <td>3.0</td>\n",
       "      <td>0.0</td>\n",
       "    </tr>\n",
       "    <tr>\n",
       "      <th>2</th>\n",
       "      <td>20000</td>\n",
       "      <td>[45.31998657185583, 46.388134403515735, 44.557...</td>\n",
       "      <td>[-5.493331705679495, -3.357036042359691, -3.35...</td>\n",
       "      <td>[34999847.40745263, 34999942.272665404, 350000...</td>\n",
       "      <td>3.0</td>\n",
       "      <td>249.488815</td>\n",
       "      <td>-258.186590</td>\n",
       "      <td>-0.268838</td>\n",
       "      <td>60.604688</td>\n",
       "      <td>38.548378</td>\n",
       "      <td>30.060732</td>\n",
       "      <td>-26.093326</td>\n",
       "      <td>0.142125</td>\n",
       "      <td>7.118925</td>\n",
       "      <td>4.415626</td>\n",
       "      <td>0.0</td>\n",
       "      <td>0.0</td>\n",
       "      <td>3.0</td>\n",
       "      <td>0.0</td>\n",
       "    </tr>\n",
       "    <tr>\n",
       "      <th>3</th>\n",
       "      <td>30000</td>\n",
       "      <td>[15.86962492751854, -10.071108127079073, -40.2...</td>\n",
       "      <td>[-3.967406231879635, 3.662221137119663, 6.8666...</td>\n",
       "      <td>[34998016.29688405, 34997360.18338733, 3499669...</td>\n",
       "      <td>3.0</td>\n",
       "      <td>281.838435</td>\n",
       "      <td>-236.518448</td>\n",
       "      <td>-0.605731</td>\n",
       "      <td>65.837213</td>\n",
       "      <td>40.287144</td>\n",
       "      <td>29.145177</td>\n",
       "      <td>-24.719993</td>\n",
       "      <td>0.246803</td>\n",
       "      <td>6.920476</td>\n",
       "      <td>4.268392</td>\n",
       "      <td>0.0</td>\n",
       "      <td>0.0</td>\n",
       "      <td>3.0</td>\n",
       "      <td>0.0</td>\n",
       "    </tr>\n",
       "    <tr>\n",
       "      <th>4</th>\n",
       "      <td>40000</td>\n",
       "      <td>[-96.28589739677115, -110.32441175572986, -119...</td>\n",
       "      <td>[-2.1362956633198036, -0.3051850947599719, -0....</td>\n",
       "      <td>[34999847.40745262, 34997565.92489864, 3499514...</td>\n",
       "      <td>3.0</td>\n",
       "      <td>270.851772</td>\n",
       "      <td>-160.374767</td>\n",
       "      <td>0.814844</td>\n",
       "      <td>62.723396</td>\n",
       "      <td>39.363107</td>\n",
       "      <td>36.164434</td>\n",
       "      <td>-25.330363</td>\n",
       "      <td>0.368633</td>\n",
       "      <td>6.959197</td>\n",
       "      <td>4.244282</td>\n",
       "      <td>0.0</td>\n",
       "      <td>0.0</td>\n",
       "      <td>3.0</td>\n",
       "      <td>0.0</td>\n",
       "    </tr>\n",
       "  </tbody>\n",
       "</table>\n",
       "</div>"
      ],
      "text/plain": [
       "    time                                                eeg  \\\n",
       "0      0  [-81.94219794305246, -73.09183019501327, -65.0...   \n",
       "1  10000  [88.65627002777184, 81.02664265877254, 69.4296...   \n",
       "2  20000  [45.31998657185583, 46.388134403515735, 44.557...   \n",
       "3  30000  [15.86962492751854, -10.071108127079073, -40.2...   \n",
       "4  40000  [-96.28589739677115, -110.32441175572986, -119...   \n",
       "\n",
       "                                                 emg  \\\n",
       "0  [-3.5096285897396773, -6.561479537339396, -3.9...   \n",
       "1  [11.749626148258919, 6.40888698995941, 1.37333...   \n",
       "2  [-5.493331705679495, -3.357036042359691, -3.35...   \n",
       "3  [-3.967406231879635, 3.662221137119663, 6.8666...   \n",
       "4  [-2.1362956633198036, -0.3051850947599719, -0....   \n",
       "\n",
       "                                          signal_str  sleep_stage     eeg_max  \\\n",
       "0  [34999847.40745262, 35001829.06457086, 3500382...          3.0  312.509537   \n",
       "1  [34999847.40745261, 35001522.62981798, 3500319...          3.0  353.556932   \n",
       "2  [34999847.40745263, 34999942.272665404, 350000...          3.0  249.488815   \n",
       "3  [34998016.29688405, 34997360.18338733, 3499669...          3.0  281.838435   \n",
       "4  [34999847.40745262, 34997565.92489864, 3499514...          3.0  270.851772   \n",
       "\n",
       "      eeg_min  eeg_mean    eeg_std   reeg_std    emg_max    emg_min  emg_mean  \\\n",
       "0 -244.911039 -0.917081  61.102474  39.760782  32.044435 -29.908139  0.289377   \n",
       "1 -177.159948  0.469924  59.819381  36.771851  31.586657 -25.635548  0.181982   \n",
       "2 -258.186590 -0.268838  60.604688  38.548378  30.060732 -26.093326  0.142125   \n",
       "3 -236.518448 -0.605731  65.837213  40.287144  29.145177 -24.719993  0.246803   \n",
       "4 -160.374767  0.814844  62.723396  39.363107  36.164434 -25.330363  0.368633   \n",
       "\n",
       "    emg_std  remg_std  awake   PS  SWS  art  \n",
       "0  7.608577  4.663815    0.0  0.0  3.0  0.0  \n",
       "1  7.415046  4.498966    0.0  0.0  3.0  0.0  \n",
       "2  7.118925  4.415626    0.0  0.0  3.0  0.0  \n",
       "3  6.920476  4.268392    0.0  0.0  3.0  0.0  \n",
       "4  6.959197  4.244282    0.0  0.0  3.0  0.0  "
      ]
     },
     "execution_count": 23,
     "metadata": {},
     "output_type": "execute_result"
    }
   ],
   "source": [
    "df2['PS']=df2.sleep_stage\n",
    "df2['PS'][df2['PS']!=2]=0\n",
    "df2['SWS']=df2.sleep_stage\n",
    "df2['SWS'][df2['SWS']!=3]=0\n",
    "df2['art']=df2.sleep_stage\n",
    "df2['art'][df2['art']!=10]=0\n",
    "df2.head()"
   ]
  },
  {
   "cell_type": "code",
   "execution_count": 24,
   "metadata": {},
   "outputs": [
    {
     "name": "stderr",
     "output_type": "stream",
     "text": [
      "C:\\Users\\nworl\\anaconda3\\envs\\tf2\\lib\\site-packages\\ipykernel_launcher.py:1: SettingWithCopyWarning: \n",
      "A value is trying to be set on a copy of a slice from a DataFrame\n",
      "\n",
      "See the caveats in the documentation: https://pandas.pydata.org/pandas-docs/stable/user_guide/indexing.html#returning-a-view-versus-a-copy\n",
      "  \"\"\"Entry point for launching an IPython kernel.\n",
      "C:\\Users\\nworl\\anaconda3\\envs\\tf2\\lib\\site-packages\\ipykernel_launcher.py:2: SettingWithCopyWarning: \n",
      "A value is trying to be set on a copy of a slice from a DataFrame\n",
      "\n",
      "See the caveats in the documentation: https://pandas.pydata.org/pandas-docs/stable/user_guide/indexing.html#returning-a-view-versus-a-copy\n",
      "  \n",
      "C:\\Users\\nworl\\anaconda3\\envs\\tf2\\lib\\site-packages\\ipykernel_launcher.py:3: SettingWithCopyWarning: \n",
      "A value is trying to be set on a copy of a slice from a DataFrame\n",
      "\n",
      "See the caveats in the documentation: https://pandas.pydata.org/pandas-docs/stable/user_guide/indexing.html#returning-a-view-versus-a-copy\n",
      "  This is separate from the ipykernel package so we can avoid doing imports until\n"
     ]
    }
   ],
   "source": [
    "df2['PS'][df2['PS']!=0]=1.0\n",
    "df2['SWS'][df2['SWS']!=0]=1.0\n",
    "df2['art'][df2['art']!=0]=1.0"
   ]
  },
  {
   "cell_type": "code",
   "execution_count": 25,
   "metadata": {},
   "outputs": [
    {
     "data": {
      "text/plain": [
       "(8640, 4)"
      ]
     },
     "execution_count": 25,
     "metadata": {},
     "output_type": "execute_result"
    }
   ],
   "source": [
    "sleep = df2[['awake','PS','SWS','art']].values\n",
    "sleep.shape"
   ]
  },
  {
   "cell_type": "code",
   "execution_count": 26,
   "metadata": {},
   "outputs": [],
   "source": [
    "sleep = sleep.reshape(8640,4,1)"
   ]
  },
  {
   "cell_type": "code",
   "execution_count": 27,
   "metadata": {},
   "outputs": [],
   "source": [
    "sleep_stage = df2.sleep_stage.values\n",
    "sleep_stage = sleep_stage.reshape(8640,1)\n",
    "sleep_stage[sleep_stage==10.0]=4.0"
   ]
  },
  {
   "cell_type": "code",
   "execution_count": 28,
   "metadata": {},
   "outputs": [
    {
     "data": {
      "text/plain": [
       "array([[0.],\n",
       "       [0.],\n",
       "       [1.],\n",
       "       [0.]])"
      ]
     },
     "execution_count": 28,
     "metadata": {},
     "output_type": "execute_result"
    }
   ],
   "source": [
    "sleep[0]"
   ]
  },
  {
   "cell_type": "code",
   "execution_count": 29,
   "metadata": {},
   "outputs": [
    {
     "name": "stdout",
     "output_type": "stream",
     "text": [
      "(8640, 5000, 1)\n"
     ]
    }
   ],
   "source": [
    "print(eeg_data.shape)\n",
    "sleep = sleep.argmax(axis=1)"
   ]
  },
  {
   "cell_type": "code",
   "execution_count": 30,
   "metadata": {},
   "outputs": [
    {
     "data": {
      "text/plain": [
       "(8640, 1)"
      ]
     },
     "execution_count": 30,
     "metadata": {},
     "output_type": "execute_result"
    }
   ],
   "source": [
    "sleep.shape"
   ]
  },
  {
   "cell_type": "code",
   "execution_count": 31,
   "metadata": {},
   "outputs": [],
   "source": [
    "sleep_stage = df2.sleep_stage.values"
   ]
  },
  {
   "cell_type": "code",
   "execution_count": 183,
   "metadata": {},
   "outputs": [
    {
     "name": "stdout",
     "output_type": "stream",
     "text": [
      "Epoch 1/30\n",
      "270/270 [==============================] - 2s 8ms/step - loss: 0.0670 - accuracy: 0.9797\n",
      "Epoch 2/30\n",
      "270/270 [==============================] - 2s 8ms/step - loss: 0.0441 - accuracy: 0.9863\n",
      "Epoch 3/30\n",
      "270/270 [==============================] - 2s 7ms/step - loss: 0.0736 - accuracy: 0.9797\n",
      "Epoch 4/30\n",
      "270/270 [==============================] - 2s 8ms/step - loss: 0.0346 - accuracy: 0.9895\n",
      "Epoch 5/30\n",
      "270/270 [==============================] - 2s 8ms/step - loss: 0.0557 - accuracy: 0.9866\n",
      "Epoch 6/30\n",
      "270/270 [==============================] - 2s 8ms/step - loss: 0.0304 - accuracy: 0.9909\n",
      "Epoch 7/30\n",
      "270/270 [==============================] - 2s 8ms/step - loss: 0.0433 - accuracy: 0.9869\n",
      "Epoch 8/30\n",
      "270/270 [==============================] - 2s 8ms/step - loss: 0.0108 - accuracy: 0.9957\n",
      "Epoch 9/30\n",
      "270/270 [==============================] - 2s 8ms/step - loss: 0.0482 - accuracy: 0.9848\n",
      "Epoch 10/30\n",
      "270/270 [==============================] - 2s 8ms/step - loss: 0.0283 - accuracy: 0.9934\n",
      "Epoch 11/30\n",
      "270/270 [==============================] - 2s 8ms/step - loss: 0.0404 - accuracy: 0.9873\n",
      "Epoch 12/30\n",
      "270/270 [==============================] - 2s 8ms/step - loss: 0.0377 - accuracy: 0.9884\n",
      "Epoch 13/30\n",
      "270/270 [==============================] - 2s 8ms/step - loss: 0.0350 - accuracy: 0.9900\n",
      "Epoch 14/30\n",
      "270/270 [==============================] - 2s 8ms/step - loss: 0.0117 - accuracy: 0.9972\n",
      "Epoch 15/30\n",
      "270/270 [==============================] - 2s 8ms/step - loss: 0.0493 - accuracy: 0.9881\n",
      "Epoch 16/30\n",
      "270/270 [==============================] - 2s 8ms/step - loss: 0.0356 - accuracy: 0.9895\n",
      "Epoch 17/30\n",
      "270/270 [==============================] - 2s 8ms/step - loss: 0.0167 - accuracy: 0.9947\n",
      "Epoch 18/30\n",
      "270/270 [==============================] - 2s 8ms/step - loss: 0.0302 - accuracy: 0.9929\n",
      "Epoch 19/30\n",
      "270/270 [==============================] - 2s 8ms/step - loss: 0.0125 - accuracy: 0.9966\n",
      "Epoch 20/30\n",
      "270/270 [==============================] - 2s 8ms/step - loss: 0.0251 - accuracy: 0.9925\n",
      "Epoch 21/30\n",
      "270/270 [==============================] - 2s 8ms/step - loss: 0.0210 - accuracy: 0.9949\n",
      "Epoch 22/30\n",
      "270/270 [==============================] - 2s 8ms/step - loss: 0.0312 - accuracy: 0.9926\n",
      "Epoch 23/30\n",
      "270/270 [==============================] - 2s 8ms/step - loss: 0.0134 - accuracy: 0.9959\n",
      "Epoch 24/30\n",
      "270/270 [==============================] - 2s 8ms/step - loss: 4.9362e-04 - accuracy: 1.0000\n",
      "Epoch 25/30\n",
      "270/270 [==============================] - 2s 8ms/step - loss: 2.2252e-04 - accuracy: 1.0000\n",
      "Epoch 26/30\n",
      "270/270 [==============================] - 2s 8ms/step - loss: 5.6301e-05 - accuracy: 1.0000\n",
      "Epoch 27/30\n",
      "270/270 [==============================] - 2s 8ms/step - loss: 3.7969e-05 - accuracy: 1.0000\n",
      "Epoch 28/30\n",
      "270/270 [==============================] - 2s 8ms/step - loss: 2.7247e-05 - accuracy: 1.0000\n",
      "Epoch 29/30\n",
      "270/270 [==============================] - 2s 8ms/step - loss: 2.0691e-05 - accuracy: 1.0000\n",
      "Epoch 30/30\n",
      "270/270 [==============================] - 2s 8ms/step - loss: 1.6091e-05 - accuracy: 1.0000\n"
     ]
    }
   ],
   "source": [
    "history = model.fit(eeg_data, sleep.argmax(axis=1), epochs=30)"
   ]
  },
  {
   "cell_type": "code",
   "execution_count": 176,
   "metadata": {},
   "outputs": [],
   "source": [
    "loss = history.history['loss']\n",
    "accuracy = history.history['accuracy']"
   ]
  },
  {
   "cell_type": "code",
   "execution_count": 177,
   "metadata": {},
   "outputs": [
    {
     "data": {
      "text/plain": [
       "[<matplotlib.lines.Line2D at 0x1897c16a708>]"
      ]
     },
     "execution_count": 177,
     "metadata": {},
     "output_type": "execute_result"
    },
    {
     "data": {
      "image/png": "[encoded data removed]",
      "text/plain": [
       "<Figure size 432x288 with 1 Axes>"
      ]
     },
     "metadata": {
      "needs_background": "light"
     },
     "output_type": "display_data"
    }
   ],
   "source": [
    "#plt.plot(range(len(loss)), loss)\n",
    "plt.plot(range(len(loss)), accuracy)"
   ]
  },
  {
   "cell_type": "code",
   "execution_count": 184,
   "metadata": {},
   "outputs": [],
   "source": [
    "x = model.predict(eeg_data)"
   ]
  },
  {
   "cell_type": "code",
   "execution_count": 185,
   "metadata": {},
   "outputs": [],
   "source": [
    "predictions = x.argmax(axis=1)"
   ]
  },
  {
   "cell_type": "code",
   "execution_count": 186,
   "metadata": {},
   "outputs": [],
   "source": [
    "labels = sleep.argmax(axis=1)"
   ]
  },
  {
   "cell_type": "code",
   "execution_count": 86,
   "metadata": {},
   "outputs": [],
   "source": [
    "from sklearn.metrics import confusion_matrix"
   ]
  },
  {
   "cell_type": "code",
   "execution_count": 187,
   "metadata": {},
   "outputs": [
    {
     "data": {
      "text/plain": [
       "array([[4184,    0,    0,    0],\n",
       "       [   0,  512,    0,    0],\n",
       "       [   0,    0, 3851,    0],\n",
       "       [   0,    0,    0,   93]], dtype=int64)"
      ]
     },
     "execution_count": 187,
     "metadata": {},
     "output_type": "execute_result"
    }
   ],
   "source": [
    "confusion_matrix(labels, predictions)"
   ]
  },
  {
   "cell_type": "code",
   "execution_count": 171,
   "metadata": {},
   "outputs": [
    {
     "data": {
      "text/plain": [
       "(8640, 4)"
      ]
     },
     "execution_count": 171,
     "metadata": {},
     "output_type": "execute_result"
    }
   ],
   "source": [
    "sleep.shape"
   ]
  },
  {
   "cell_type": "code",
   "execution_count": 2,
   "metadata": {},
   "outputs": [
    {
     "data": {
      "text/plain": [
       "0.005"
      ]
     },
     "execution_count": 2,
     "metadata": {},
     "output_type": "execute_result"
    }
   ],
   "source": [
    "5e-3"
   ]
  },
  {
   "cell_type": "code",
   "execution_count": null,
   "metadata": {},
   "outputs": [],
   "source": []
  }
 ],
 "metadata": {
  "kernelspec": {
   "display_name": "Python 3",
   "language": "python",
   "name": "python3"
  },
  "language_info": {
   "codemirror_mode": {
    "name": "ipython",
    "version": 3
   },
   "file_extension": ".py",
   "mimetype": "text/x-python",
   "name": "python",
   "nbconvert_exporter": "python",
   "pygments_lexer": "ipython3",
   "version": "3.7.6"
  }
 },
 "nbformat": 4,
 "nbformat_minor": 4
}
