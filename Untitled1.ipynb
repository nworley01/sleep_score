{
 "cells": [
  {
   "cell_type": "code",
   "execution_count": 1,
   "metadata": {},
   "outputs": [],
   "source": [
    "import numpy as np\n",
    "import tensorflow as tf"
   ]
  },
  {
   "cell_type": "code",
   "execution_count": 2,
   "metadata": {},
   "outputs": [],
   "source": [
    "ys = np.array([True, False])"
   ]
  },
  {
   "cell_type": "code",
   "execution_count": 3,
   "metadata": {},
   "outputs": [
    {
     "data": {
      "text/plain": [
       "array([1, 0])"
      ]
     },
     "execution_count": 3,
     "metadata": {},
     "output_type": "execute_result"
    }
   ],
   "source": [
    "ys.astype(int)"
   ]
  },
  {
   "cell_type": "code",
   "execution_count": 4,
   "metadata": {},
   "outputs": [
    {
     "data": {
      "text/plain": [
       "<tf.Tensor: shape=(2,), dtype=float64, numpy=array([1., 0.])>"
      ]
     },
     "execution_count": 4,
     "metadata": {},
     "output_type": "execute_result"
    }
   ],
   "source": [
    "tf.convert_to_tensor(ys.astype(np.float))"
   ]
  },
  {
   "cell_type": "code",
   "execution_count": null,
   "metadata": {},
   "outputs": [],
   "source": [
    "class CustomDataGen(tf.keras.utils.Sequence):\n",
    "    \n",
    "    def __init__(self, xs, ys, batch_size,\n",
    "                 input_size=(906, 4), shuffle=True):\n",
    "        self.n = len(self.xs.shape[0])\n",
    "        self.index = np.arange(0,self.n,1)\n",
    "        self.xs = xs\n",
    "        self.ys = ys\n",
    "        self.shuffled_xs = self.xs[self.index]\n",
    "        self.shuffled_ys = self.ys[self.index]\n",
    "        self.batch_size = batch_size\n",
    "        self.input_size = input_size\n",
    "        self.shuffle = shuffle\n",
    "    \n",
    "    def on_epoch_end(self):\n",
    "        if self.shuffle:\n",
    "            np.random.shuffle(self.index)\n",
    "            self.shuffled_xs = self.xs[self.index]\n",
    "            self.shuffled_ys = self.ys[self.index]\n",
    "    \n",
    "    def __get_input(self, x):\n",
    "    \n",
    "        one_hot = tfio.genome.sequences_to_onehot(x)\n",
    "        n_fill = input_size[0] - one_hot.shape[0]\n",
    "        # pad with zeros to match length of longest sequence\n",
    "        padded_one_hot = np.concatenate(one_hot, np.array([[0,0,0,0]]*n_fill))\n",
    "\n",
    "        return padded_one_hot\n",
    "    \n",
    "    def __get_output(self, label):\n",
    "        return label.astype(np.float)\n",
    "    \n",
    "    def __get_data(self, batches):\n",
    "        # Generates data containing batch_size samples\n",
    "        \n",
    "        raw_x_batch = xs[batches]\n",
    "        raw_y_batch = ys[batches]\n",
    "\n",
    "        x_batch = np.asarray([self.__get_input(x) for x in raw_x_batch)\n",
    "\n",
    "        y_batch = np.asarray([self.__get_output(y) for y in raw_y_batch])\n",
    "        \n",
    "\n",
    "        return x_batch, y_batch\n",
    "    \n",
    "    def __getitem__(self, idx):\n",
    "        \n",
    "        batches = self.index[idx * self.batch_size:(index + 1) * self.batch_size]\n",
    "        X, y = self.__get_data(batches)        \n",
    "        return X, y\n",
    "    \n",
    "    def __len__(self):\n",
    "        return self.n // self.batch_size"
   ]
  }
 ],
 "metadata": {
  "kernelspec": {
   "display_name": "Python 3",
   "language": "python",
   "name": "python3"
  },
  "language_info": {
   "codemirror_mode": {
    "name": "ipython",
    "version": 3
   },
   "file_extension": ".py",
   "mimetype": "text/x-python",
   "name": "python",
   "nbconvert_exporter": "python",
   "pygments_lexer": "ipython3",
   "version": "3.7.6"
  }
 },
 "nbformat": 4,
 "nbformat_minor": 4
}
