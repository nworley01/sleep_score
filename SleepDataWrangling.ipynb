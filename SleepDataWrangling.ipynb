{
 "cells": [
  {
   "cell_type": "code",
   "execution_count": 1,
   "metadata": {},
   "outputs": [],
   "source": [
    "import mne\n",
    "from scipy import fftpack\n",
    "from scipy.fft import fft\n",
    "from scipy.signal import resample\n",
    "from skimage import util\n",
    "from collections import Counter\n",
    "import matplotlib.pyplot as plt\n",
    "import pandas as pd\n",
    "import numpy as np"
   ]
  },
  {
   "cell_type": "code",
   "execution_count": 2,
   "metadata": {},
   "outputs": [],
   "source": [
    "stage_names ={1.0:'awake',\n",
    "              2.0:'PS',\n",
    "              3.0:'SWS',\n",
    "              10.0:\"Artifact\"}"
   ]
  },
  {
   "cell_type": "code",
   "execution_count": 16,
   "metadata": {},
   "outputs": [
    {
     "name": "stdout",
     "output_type": "stream",
     "text": [
      "Extracting EDF parameters from D:\\sleepscoring\\data\\CRFS60_1wk_withSleepStages.edf...\n",
      "EDF file detected\n",
      "Setting channel info structure...\n",
      "Creating raw.info structure...\n"
     ]
    }
   ],
   "source": [
    "raw_data = mne.io.read_raw_edf('data/CRFS60_1wk_withSleepStages.edf')"
   ]
  },
  {
   "cell_type": "code",
   "execution_count": 17,
   "metadata": {},
   "outputs": [
    {
     "data": {
      "text/plain": [
       "<Info | 7 non-empty values\n",
       " bads: []\n",
       " ch_names: Activity, EEG, EMG, SignalStr, Temp, Signal-Sleep\n",
       " chs: 6 EEG\n",
       " custom_ref_applied: False\n",
       " highpass: 0.0 Hz\n",
       " lowpass: 250.0 Hz\n",
       " meas_date: 2020-02-18 10:00:00 UTC\n",
       " nchan: 6\n",
       " projs: []\n",
       " sfreq: 500.0 Hz\n",
       ">"
      ]
     },
     "execution_count": 17,
     "metadata": {},
     "output_type": "execute_result"
    }
   ],
   "source": [
    "raw_data.info"
   ]
  },
  {
   "cell_type": "code",
   "execution_count": 18,
   "metadata": {},
   "outputs": [],
   "source": [
    "df = raw_data.to_data_frame(['Activity', 'EEG', 'EMG', 'Signal-Sleep'])"
   ]
  },
  {
   "cell_type": "code",
   "execution_count": 19,
   "metadata": {},
   "outputs": [],
   "source": [
    "df['Signal-Sleep']=df['Signal-Sleep']/1e6"
   ]
  },
  {
   "cell_type": "code",
   "execution_count": 20,
   "metadata": {},
   "outputs": [],
   "source": [
    "df['Signal-Sleep']=np.abs(df['Signal-Sleep']).round()"
   ]
  },
  {
   "cell_type": "code",
   "execution_count": 21,
   "metadata": {},
   "outputs": [
    {
     "data": {
      "text/plain": [
       "1.0     20850000\n",
       "3.0     19220000\n",
       "2.0      2335000\n",
       "10.0      795000\n",
       "Name: Signal-Sleep, dtype: int64"
      ]
     },
     "execution_count": 21,
     "metadata": {},
     "output_type": "execute_result"
    }
   ],
   "source": [
    "df['Signal-Sleep'].value_counts()"
   ]
  },
  {
   "cell_type": "code",
   "execution_count": 29,
   "metadata": {},
   "outputs": [],
   "source": [
    "sleep_stages = []\n",
    "for i in range(8640):\n",
    "    sleep_stages.append(df[\"Signal-Sleep\"][i*5000:(i+1)*5000].mean())"
   ]
  },
  {
   "cell_type": "code",
   "execution_count": 35,
   "metadata": {},
   "outputs": [],
   "source": [
    "data_dict =  {'time':[],\n",
    "              'eeg':[],\n",
    "              'emg':[],\n",
    "              'signal_str':[],\n",
    "              'sleep_stage':[]}\n",
    "\n",
    "\n",
    "for i in range(6*60*24):\n",
    "    data_dict['time'].append(df.time[i*5000])\n",
    "    data_dict['eeg'].append(df.EEG[i*5000:(i+1)*5000].values)\n",
    "    data_dict['emg'].append(df.EMG[i*5000:(i+1)*5000].values)\n",
    "    data_dict['signal_str'].append(df.Activity[i*5000:(i+1)*5000].values)\n",
    "    data_dict['sleep_stage'].append(df[\"Signal-Sleep\"][i*5000])"
   ]
  },
  {
   "cell_type": "code",
   "execution_count": 36,
   "metadata": {},
   "outputs": [],
   "source": [
    "df2 = pd.DataFrame.from_dict(data_dict)"
   ]
  },
  {
   "cell_type": "code",
   "execution_count": 37,
   "metadata": {},
   "outputs": [
    {
     "data": {
      "text/html": [
       "<div>\n",
       "<style scoped>\n",
       "    .dataframe tbody tr th:only-of-type {\n",
       "        vertical-align: middle;\n",
       "    }\n",
       "\n",
       "    .dataframe tbody tr th {\n",
       "        vertical-align: top;\n",
       "    }\n",
       "\n",
       "    .dataframe thead th {\n",
       "        text-align: right;\n",
       "    }\n",
       "</style>\n",
       "<table border=\"1\" class=\"dataframe\">\n",
       "  <thead>\n",
       "    <tr style=\"text-align: right;\">\n",
       "      <th></th>\n",
       "      <th>time</th>\n",
       "      <th>eeg</th>\n",
       "      <th>emg</th>\n",
       "      <th>signal_str</th>\n",
       "      <th>sleep_stage</th>\n",
       "    </tr>\n",
       "  </thead>\n",
       "  <tbody>\n",
       "    <tr>\n",
       "      <th>0</th>\n",
       "      <td>0</td>\n",
       "      <td>[22.125919370097964, 5.645924253059481, -6.408...</td>\n",
       "      <td>[3.662221137119663, 4.119998779259621, 5.03555...</td>\n",
       "      <td>[1953.1846064638203, 1953.1846064638203, 1953....</td>\n",
       "      <td>1.0</td>\n",
       "    </tr>\n",
       "    <tr>\n",
       "      <th>1</th>\n",
       "      <td>10000</td>\n",
       "      <td>[-29.755546739097262, -16.93777275917844, -3.6...</td>\n",
       "      <td>[-4.425183874019593, -1.5259254737998595, -0.9...</td>\n",
       "      <td>[1953.1846064638203, 1953.1846064638203, 1953....</td>\n",
       "      <td>3.0</td>\n",
       "    </tr>\n",
       "    <tr>\n",
       "      <th>2</th>\n",
       "      <td>20000</td>\n",
       "      <td>[-33.26517532883694, -26.39851069673757, -21.5...</td>\n",
       "      <td>[1.8311105685598315, -5.493331705679495, -5.64...</td>\n",
       "      <td>[1953.1846064638203, 1953.1846064638203, 1953....</td>\n",
       "      <td>3.0</td>\n",
       "    </tr>\n",
       "    <tr>\n",
       "      <th>3</th>\n",
       "      <td>30000</td>\n",
       "      <td>[0.15259254737998595, 15.717032380138553, 34.9...</td>\n",
       "      <td>[0.45777764213995786, -1.5259254737998595, -2....</td>\n",
       "      <td>[1953.1846064638203, 1953.1846064638203, 1953....</td>\n",
       "      <td>3.0</td>\n",
       "    </tr>\n",
       "    <tr>\n",
       "      <th>4</th>\n",
       "      <td>40000</td>\n",
       "      <td>[14.34369945371868, 12.512588885158848, 9.1555...</td>\n",
       "      <td>[1.2207403790398876, -1.5259254737998595, -1.2...</td>\n",
       "      <td>[1953.1846064638203, 1953.1846064638203, 1953....</td>\n",
       "      <td>3.0</td>\n",
       "    </tr>\n",
       "  </tbody>\n",
       "</table>\n",
       "</div>"
      ],
      "text/plain": [
       "    time                                                eeg  \\\n",
       "0      0  [22.125919370097964, 5.645924253059481, -6.408...   \n",
       "1  10000  [-29.755546739097262, -16.93777275917844, -3.6...   \n",
       "2  20000  [-33.26517532883694, -26.39851069673757, -21.5...   \n",
       "3  30000  [0.15259254737998595, 15.717032380138553, 34.9...   \n",
       "4  40000  [14.34369945371868, 12.512588885158848, 9.1555...   \n",
       "\n",
       "                                                 emg  \\\n",
       "0  [3.662221137119663, 4.119998779259621, 5.03555...   \n",
       "1  [-4.425183874019593, -1.5259254737998595, -0.9...   \n",
       "2  [1.8311105685598315, -5.493331705679495, -5.64...   \n",
       "3  [0.45777764213995786, -1.5259254737998595, -2....   \n",
       "4  [1.2207403790398876, -1.5259254737998595, -1.2...   \n",
       "\n",
       "                                          signal_str  sleep_stage  \n",
       "0  [1953.1846064638203, 1953.1846064638203, 1953....          1.0  \n",
       "1  [1953.1846064638203, 1953.1846064638203, 1953....          3.0  \n",
       "2  [1953.1846064638203, 1953.1846064638203, 1953....          3.0  \n",
       "3  [1953.1846064638203, 1953.1846064638203, 1953....          3.0  \n",
       "4  [1953.1846064638203, 1953.1846064638203, 1953....          3.0  "
      ]
     },
     "execution_count": 37,
     "metadata": {},
     "output_type": "execute_result"
    }
   ],
   "source": [
    "df2.head()"
   ]
  },
  {
   "cell_type": "code",
   "execution_count": null,
   "metadata": {},
   "outputs": [],
   "source": []
  }
 ],
 "metadata": {
  "kernelspec": {
   "display_name": "Python 3",
   "language": "python",
   "name": "python3"
  },
  "language_info": {
   "codemirror_mode": {
    "name": "ipython",
    "version": 3
   },
   "file_extension": ".py",
   "mimetype": "text/x-python",
   "name": "python",
   "nbconvert_exporter": "python",
   "pygments_lexer": "ipython3",
   "version": "3.7.6"
  }
 },
 "nbformat": 4,
 "nbformat_minor": 4
}
